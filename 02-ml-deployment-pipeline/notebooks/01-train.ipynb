{
 "cells": [
  {
   "cell_type": "code",
   "execution_count": 1,
   "id": "6d818756",
   "metadata": {},
   "outputs": [],
   "source": [
    "import os\n",
    "import json\n",
    "from datetime import datetime\n",
    "\n",
    "import numpy as np\n",
    "import pandas as pd\n",
    "from sklearn import datasets\n",
    "from sklearn.model_selection import train_test_split\n",
    "from sklearn.metrics import accuracy_score, f1_score\n",
    "from sklearn.ensemble import RandomForestClassifier"
   ]
  },
  {
   "cell_type": "code",
   "execution_count": 2,
   "id": "0c45c586",
   "metadata": {},
   "outputs": [
    {
     "name": "stderr",
     "output_type": "stream",
     "text": [
      "2025/09/15 21:54:26 INFO mlflow.tracking.fluent: Experiment with name 'baseline-iris' does not exist. Creating a new experiment.\n"
     ]
    }
   ],
   "source": [
    "# MLflow is optional at runtime, but we want it for tracking\n",
    "try:\n",
    "    import mlflow\n",
    "    import mlflow.sklearn\n",
    "    MLFLOW_AVAILABLE = True\n",
    "except Exception as e:\n",
    "    print(\"MLflow not found. Proceeding without tracking.\")\n",
    "    MLFLOW_AVAILABLE = False\n",
    "\n",
    "# Paths\n",
    "BASE_DIR = os.path.abspath(os.path.join(os.getcwd(), \"..\")) if os.path.basename(os.getcwd())==\"notebooks\" else os.getcwd()\n",
    "ARTIFACT_DIR = os.path.join(BASE_DIR, \"artifacts\")\n",
    "os.makedirs(ARTIFACT_DIR, exist_ok=True)\n",
    "\n",
    "if MLFLOW_AVAILABLE:\n",
    "    # Log to local folder repo/mlruns so it’s portable to CI\n",
    "    mlflow.set_tracking_uri(f\"file://{os.path.join(BASE_DIR, 'mlruns')}\")\n",
    "    mlflow.set_experiment(\"baseline-iris\")\n"
   ]
  },
  {
   "cell_type": "code",
   "execution_count": 3,
   "id": "d99f7184",
   "metadata": {},
   "outputs": [
    {
     "data": {
      "text/plain": [
       "((120, 4), (30, 4))"
      ]
     },
     "execution_count": 3,
     "metadata": {},
     "output_type": "execute_result"
    }
   ],
   "source": [
    "def load_data(test_size=0.2, random_state=42):\n",
    "    iris = datasets.load_iris()\n",
    "    X = iris.data\n",
    "    y = iris.target\n",
    "    feature_names = iris.feature_names\n",
    "    target_names = iris.target_names\n",
    "\n",
    "    X_train, X_test, y_train, y_test = train_test_split(\n",
    "        X, y, test_size=test_size, random_state=random_state, stratify=y\n",
    "    )\n",
    "    return (X_train, y_train), (X_test, y_test), feature_names, target_names\n",
    "\n",
    "(X_train, y_train), (X_test, y_test), feature_names, target_names = load_data()\n",
    "X_train.shape, X_test.shape\n"
   ]
  },
  {
   "cell_type": "code",
   "execution_count": 4,
   "id": "15c475aa",
   "metadata": {},
   "outputs": [
    {
     "name": "stderr",
     "output_type": "stream",
     "text": [
      "2025/09/15 21:55:23 WARNING mlflow.models.model: `artifact_path` is deprecated. Please use `name` instead.\n",
      "\u001b[31m2025/09/15 21:55:29 WARNING mlflow.models.model: Model logged without a signature and input example. Please set `input_example` parameter when logging the model to auto infer the model signature.\u001b[0m\n"
     ]
    },
    {
     "name": "stdout",
     "output_type": "stream",
     "text": [
      "Saved locally to: /Users/saikamat/Documents/Python Scripts/FDE-Deployments/02-ml-deployment-pipeline/artifacts/model_20250915T195522\n",
      "MLflow run id: 1db77263faeb498db68543aed72e2ce2\n"
     ]
    },
    {
     "data": {
      "text/plain": [
       "{'acc': 0.9,\n",
       " 'f1': 0.899749373433584,\n",
       " 'artifact_dir': '/Users/saikamat/Documents/Python Scripts/FDE-Deployments/02-ml-deployment-pipeline/artifacts/model_20250915T195522',\n",
       " 'run_id': '1db77263faeb498db68543aed72e2ce2'}"
      ]
     },
     "execution_count": 4,
     "metadata": {},
     "output_type": "execute_result"
    }
   ],
   "source": [
    "def train_and_log(\n",
    "    n_estimators=200,\n",
    "    max_depth=None,\n",
    "    random_state=42,\n",
    "    run_name=None\n",
    "):\n",
    "    model = RandomForestClassifier(\n",
    "        n_estimators=n_estimators,\n",
    "        max_depth=max_depth,\n",
    "        random_state=random_state,\n",
    "        n_jobs=-1,\n",
    "    )\n",
    "\n",
    "    if MLFLOW_AVAILABLE:\n",
    "        mlflow.sklearn.autolog(log_models=False)  # we will log model manually with a clean artifact path\n",
    "\n",
    "    if MLFLOW_AVAILABLE:\n",
    "        with mlflow.start_run(run_name=run_name or f\"rf-{datetime.utcnow().isoformat()}\") as run:\n",
    "            model.fit(X_train, y_train)\n",
    "\n",
    "            preds = model.predict(X_test)\n",
    "            acc = accuracy_score(y_test, preds)\n",
    "            f1 = f1_score(y_test, preds, average=\"macro\")\n",
    "\n",
    "            mlflow.log_param(\"n_estimators\", n_estimators)\n",
    "            mlflow.log_param(\"max_depth\", max_depth)\n",
    "            mlflow.log_metric(\"accuracy\", acc)\n",
    "            mlflow.log_metric(\"f1_macro\", f1)\n",
    "\n",
    "            # Save model to artifacts with a versioned stamp\n",
    "            stamp = datetime.utcnow().strftime(\"%Y%m%dT%H%M%S\")\n",
    "            run_art_dir = os.path.join(ARTIFACT_DIR, f\"model_{stamp}\")\n",
    "            os.makedirs(run_art_dir, exist_ok=True)\n",
    "\n",
    "            # Persist model\n",
    "            import joblib\n",
    "            model_path = os.path.join(run_art_dir, \"model.joblib\")\n",
    "            joblib.dump(model, model_path)\n",
    "\n",
    "            # Minimal model card and metrics\n",
    "            info = {\n",
    "                \"model_type\": \"RandomForestClassifier\",\n",
    "                \"n_estimators\": n_estimators,\n",
    "                \"max_depth\": max_depth,\n",
    "                \"feature_names\": feature_names,\n",
    "                \"target_names\": target_names.tolist(),\n",
    "                \"created_utc\": datetime.utcnow().isoformat() + \"Z\",\n",
    "                \"mlflow_run_id\": run.info.run_id,\n",
    "            }\n",
    "            with open(os.path.join(run_art_dir, \"model_info.json\"), \"w\") as f:\n",
    "                json.dump(info, f, indent=2)\n",
    "\n",
    "            with open(os.path.join(run_art_dir, \"metrics.json\"), \"w\") as f:\n",
    "                json.dump({\"accuracy\": acc, \"f1_macro\": f1}, f, indent=2)\n",
    "\n",
    "            # Log directory to MLflow\n",
    "            mlflow.log_artifacts(run_art_dir, artifact_path=\"model_artifacts\")\n",
    "\n",
    "            # Also log a MLflow model for easy loading later (optional for Lambda size)\n",
    "            mlflow.sklearn.log_model(\n",
    "                sk_model=model,\n",
    "                artifact_path=\"sk_model\",\n",
    "                registered_model_name=None\n",
    "            )\n",
    "\n",
    "            print(\"Saved locally to:\", run_art_dir)\n",
    "            print(\"MLflow run id:\", run.info.run_id)\n",
    "            return {\"acc\": acc, \"f1\": f1, \"artifact_dir\": run_art_dir, \"run_id\": run.info.run_id}\n",
    "    else:\n",
    "        # Fallback: no MLflow, still train and save artifacts\n",
    "        model.fit(X_train, y_train)\n",
    "        preds = model.predict(X_test)\n",
    "        acc = accuracy_score(y_test, preds)\n",
    "        f1 = f1_score(y_test, preds, average=\"macro\")\n",
    "\n",
    "        stamp = datetime.utcnow().strftime(\"%Y%m%dT%H%M%S\")\n",
    "        run_art_dir = os.path.join(ARTIFACT_DIR, f\"model_{stamp}\")\n",
    "        os.makedirs(run_art_dir, exist_ok=True)\n",
    "\n",
    "        import joblib\n",
    "        joblib.dump(model, os.path.join(run_art_dir, \"model.joblib\"))\n",
    "        with open(os.path.join(run_art_dir, \"metrics.json\"), \"w\") as f:\n",
    "            json.dump({\"accuracy\": acc, \"f1_macro\": f1}, f, indent=2)\n",
    "\n",
    "        with open(os.path.join(run_art_dir, \"model_info.json\"), \"w\") as f:\n",
    "            json.dump({\n",
    "                \"model_type\": \"RandomForestClassifier\",\n",
    "                \"n_estimators\": n_estimators,\n",
    "                \"max_depth\": max_depth,\n",
    "                \"feature_names\": feature_names,\n",
    "                \"target_names\": target_names.tolist(),\n",
    "                \"created_utc\": datetime.utcnow().isoformat() + \"Z\",\n",
    "            }, f, indent=2)\n",
    "\n",
    "        print(\"Saved locally to:\", run_art_dir)\n",
    "        return {\"acc\": acc, \"f1\": f1, \"artifact_dir\": run_art_dir, \"run_id\": None}\n",
    "\n",
    "results = train_and_log(n_estimators=300, max_depth=None)\n",
    "results\n"
   ]
  },
  {
   "cell_type": "code",
   "execution_count": 5,
   "id": "37200626",
   "metadata": {},
   "outputs": [
    {
     "data": {
      "text/html": [
       "<div>\n",
       "<style scoped>\n",
       "    .dataframe tbody tr th:only-of-type {\n",
       "        vertical-align: middle;\n",
       "    }\n",
       "\n",
       "    .dataframe tbody tr th {\n",
       "        vertical-align: top;\n",
       "    }\n",
       "\n",
       "    .dataframe thead th {\n",
       "        text-align: right;\n",
       "    }\n",
       "</style>\n",
       "<table border=\"1\" class=\"dataframe\">\n",
       "  <thead>\n",
       "    <tr style=\"text-align: right;\">\n",
       "      <th></th>\n",
       "      <th>pred</th>\n",
       "      <th>target</th>\n",
       "    </tr>\n",
       "  </thead>\n",
       "  <tbody>\n",
       "    <tr>\n",
       "      <th>0</th>\n",
       "      <td>0</td>\n",
       "      <td>0</td>\n",
       "    </tr>\n",
       "    <tr>\n",
       "      <th>1</th>\n",
       "      <td>2</td>\n",
       "      <td>2</td>\n",
       "    </tr>\n",
       "    <tr>\n",
       "      <th>2</th>\n",
       "      <td>1</td>\n",
       "      <td>1</td>\n",
       "    </tr>\n",
       "    <tr>\n",
       "      <th>3</th>\n",
       "      <td>1</td>\n",
       "      <td>1</td>\n",
       "    </tr>\n",
       "    <tr>\n",
       "      <th>4</th>\n",
       "      <td>0</td>\n",
       "      <td>0</td>\n",
       "    </tr>\n",
       "  </tbody>\n",
       "</table>\n",
       "</div>"
      ],
      "text/plain": [
       "   pred  target\n",
       "0     0       0\n",
       "1     2       2\n",
       "2     1       1\n",
       "3     1       1\n",
       "4     0       0"
      ]
     },
     "execution_count": 5,
     "metadata": {},
     "output_type": "execute_result"
    }
   ],
   "source": [
    "# Load the most recent model artifact and run a simple prediction\n",
    "import glob, joblib\n",
    "\n",
    "all_models = sorted(glob.glob(os.path.join(ARTIFACT_DIR, \"model_*\")), reverse=True)\n",
    "latest = all_models[0]\n",
    "clf = joblib.load(os.path.join(latest, \"model.joblib\"))\n",
    "\n",
    "sample = X_test[:5]\n",
    "preds = clf.predict(sample)\n",
    "pd.DataFrame({\n",
    "    \"pred\": preds,\n",
    "    \"target\": y_test[:5]\n",
    "})\n"
   ]
  }
 ],
 "metadata": {
  "kernelspec": {
   "display_name": "pytorchenv",
   "language": "python",
   "name": "python3"
  },
  "language_info": {
   "codemirror_mode": {
    "name": "ipython",
    "version": 3
   },
   "file_extension": ".py",
   "mimetype": "text/x-python",
   "name": "python",
   "nbconvert_exporter": "python",
   "pygments_lexer": "ipython3",
   "version": "3.11.13"
  }
 },
 "nbformat": 4,
 "nbformat_minor": 5
}
